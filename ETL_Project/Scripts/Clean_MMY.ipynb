{
 "cells": [
  {
   "cell_type": "code",
   "execution_count": 3,
   "metadata": {},
   "outputs": [],
   "source": [
    "import pandas as pd"
   ]
  },
  {
   "cell_type": "code",
   "execution_count": 65,
   "metadata": {},
   "outputs": [],
   "source": [
    "csv=\"../Resources/final_mpg.csv\"\n",
    "csv2=\"../Resources/final_car.csv\""
   ]
  },
  {
   "cell_type": "code",
   "execution_count": 66,
   "metadata": {},
   "outputs": [],
   "source": [
    "mpg=pd.read_csv(csv)\n",
    "car=pd.read_csv(csv2)"
   ]
  },
  {
   "cell_type": "code",
   "execution_count": 67,
   "metadata": {},
   "outputs": [],
   "source": [
    "#pull only the make model and year\n",
    "mpg2 = mpg.iloc[:,0:3]\n",
    "car2 = car.iloc[:,0:3]"
   ]
  },
  {
   "cell_type": "code",
   "execution_count": 68,
   "metadata": {},
   "outputs": [
    {
     "data": {
      "text/html": [
       "<div>\n",
       "<style scoped>\n",
       "    .dataframe tbody tr th:only-of-type {\n",
       "        vertical-align: middle;\n",
       "    }\n",
       "\n",
       "    .dataframe tbody tr th {\n",
       "        vertical-align: top;\n",
       "    }\n",
       "\n",
       "    .dataframe thead th {\n",
       "        text-align: right;\n",
       "    }\n",
       "</style>\n",
       "<table border=\"1\" class=\"dataframe\">\n",
       "  <thead>\n",
       "    <tr style=\"text-align: right;\">\n",
       "      <th></th>\n",
       "      <th>make</th>\n",
       "      <th>model</th>\n",
       "      <th>year</th>\n",
       "    </tr>\n",
       "  </thead>\n",
       "  <tbody>\n",
       "    <tr>\n",
       "      <th>0</th>\n",
       "      <td>acura</td>\n",
       "      <td>tl</td>\n",
       "      <td>2012</td>\n",
       "    </tr>\n",
       "    <tr>\n",
       "      <th>1</th>\n",
       "      <td>jaguar</td>\n",
       "      <td>xf</td>\n",
       "      <td>2011</td>\n",
       "    </tr>\n",
       "    <tr>\n",
       "      <th>2</th>\n",
       "      <td>honda</td>\n",
       "      <td>element</td>\n",
       "      <td>2004</td>\n",
       "    </tr>\n",
       "    <tr>\n",
       "      <th>3</th>\n",
       "      <td>chevrolet</td>\n",
       "      <td>silverado k2500hd</td>\n",
       "      <td>2016</td>\n",
       "    </tr>\n",
       "    <tr>\n",
       "      <th>4</th>\n",
       "      <td>kia</td>\n",
       "      <td>sportage</td>\n",
       "      <td>2015</td>\n",
       "    </tr>\n",
       "    <tr>\n",
       "      <th>...</th>\n",
       "      <td>...</td>\n",
       "      <td>...</td>\n",
       "      <td>...</td>\n",
       "    </tr>\n",
       "    <tr>\n",
       "      <th>463008</th>\n",
       "      <td>mazda</td>\n",
       "      <td>cx-5</td>\n",
       "      <td>2015</td>\n",
       "    </tr>\n",
       "    <tr>\n",
       "      <th>463009</th>\n",
       "      <td>nissan</td>\n",
       "      <td>frontier</td>\n",
       "      <td>2016</td>\n",
       "    </tr>\n",
       "    <tr>\n",
       "      <th>463010</th>\n",
       "      <td>bmw</td>\n",
       "      <td>335i</td>\n",
       "      <td>2010</td>\n",
       "    </tr>\n",
       "    <tr>\n",
       "      <th>463011</th>\n",
       "      <td>dodge</td>\n",
       "      <td>dart</td>\n",
       "      <td>2015</td>\n",
       "    </tr>\n",
       "    <tr>\n",
       "      <th>463012</th>\n",
       "      <td>gmc</td>\n",
       "      <td>acadia</td>\n",
       "      <td>2008</td>\n",
       "    </tr>\n",
       "  </tbody>\n",
       "</table>\n",
       "<p>463013 rows × 3 columns</p>\n",
       "</div>"
      ],
      "text/plain": [
       "             make              model  year\n",
       "0           acura                 tl  2012\n",
       "1          jaguar                 xf  2011\n",
       "2           honda            element  2004\n",
       "3       chevrolet  silverado k2500hd  2016\n",
       "4             kia           sportage  2015\n",
       "...           ...                ...   ...\n",
       "463008      mazda               cx-5  2015\n",
       "463009     nissan           frontier  2016\n",
       "463010        bmw               335i  2010\n",
       "463011      dodge               dart  2015\n",
       "463012        gmc             acadia  2008\n",
       "\n",
       "[463013 rows x 3 columns]"
      ]
     },
     "execution_count": 68,
     "metadata": {},
     "output_type": "execute_result"
    }
   ],
   "source": [
    "car2"
   ]
  },
  {
   "cell_type": "code",
   "execution_count": 69,
   "metadata": {},
   "outputs": [],
   "source": [
    "#get a df with only unique make model and year\n",
    "mpg3 = mpg2.drop_duplicates()\n",
    "car3 = car2.drop_duplicates()"
   ]
  },
  {
   "cell_type": "code",
   "execution_count": 70,
   "metadata": {},
   "outputs": [],
   "source": [
    "#combine the data\n",
    "mmy = mpg3.append(car3, ignore_index=True)"
   ]
  },
  {
   "cell_type": "code",
   "execution_count": 71,
   "metadata": {},
   "outputs": [],
   "source": [
    "#Make sure everything is lower case\n",
    "mmy2[\"make\"] = mmy2[\"make\"].str.lower()\n",
    "mmy2[\"model\"] = mmy2[\"model\"].str.lower()"
   ]
  },
  {
   "cell_type": "code",
   "execution_count": 72,
   "metadata": {},
   "outputs": [],
   "source": [
    "#once again drop duplicates\n",
    "mmy3 = mmy2.drop_duplicates()"
   ]
  },
  {
   "cell_type": "code",
   "execution_count": 73,
   "metadata": {},
   "outputs": [],
   "source": [
    "#Check for any missing data data \n",
    "all_na = []\n",
    "for i in range(3):\n",
    "    #False treated as 0, true treated as 1\n",
    "    na_count = mmy3.iloc[:,i].isnull().values.sum()\n",
    "    colname = mmy3.columns[i]\n",
    "    percent_na = round((na_count/len(mmy3))*100,2)\n",
    "    \n",
    "    col_na = {\n",
    "        'colname': colname,\n",
    "        'na_count': na_count,\n",
    "        'percent_na': percent_na\n",
    "        }\n",
    "    \n",
    "    all_na.append(col_na)"
   ]
  },
  {
   "cell_type": "code",
   "execution_count": 74,
   "metadata": {},
   "outputs": [
    {
     "data": {
      "text/plain": [
       "[{'colname': 'make', 'na_count': 0, 'percent_na': 0.0},\n",
       " {'colname': 'model', 'na_count': 0, 'percent_na': 0.0},\n",
       " {'colname': 'year', 'na_count': 0, 'percent_na': 0.0}]"
      ]
     },
     "execution_count": 74,
     "metadata": {},
     "output_type": "execute_result"
    }
   ],
   "source": [
    "all_na"
   ]
  },
  {
   "cell_type": "code",
   "execution_count": 75,
   "metadata": {},
   "outputs": [],
   "source": [
    "#save to csv\n",
    "mmy3.to_csv('../Resources/final_mmy.csv', index=False)"
   ]
  },
  {
   "cell_type": "code",
   "execution_count": null,
   "metadata": {},
   "outputs": [],
   "source": []
  }
 ],
 "metadata": {
  "kernelspec": {
   "display_name": "Python 3",
   "language": "python",
   "name": "python3"
  },
  "language_info": {
   "codemirror_mode": {
    "name": "ipython",
    "version": 3
   },
   "file_extension": ".py",
   "mimetype": "text/x-python",
   "name": "python",
   "nbconvert_exporter": "python",
   "pygments_lexer": "ipython3",
   "version": "3.7.7"
  }
 },
 "nbformat": 4,
 "nbformat_minor": 4
}
